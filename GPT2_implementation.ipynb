{
 "cells": [
  {
   "cell_type": "code",
   "execution_count": 31,
   "id": "26e408b4-82c1-40ee-9bb9-097ba4e54ffc",
   "metadata": {},
   "outputs": [],
   "source": [
    "import json\n",
    "import os\n",
    "import re\n",
    "from torch.utils.data import Dataset, DataLoader\n",
    "import pandas as pd\n",
    "import torch\n",
    "from sklearn.model_selection import train_test_split\n",
    "from tqdm.notebook import tqdm\n",
    "from torch.utils.data import Dataset, DataLoader\n",
    "import logging\n",
    "from sklearn.metrics import classification_report, accuracy_score\n",
    "from transformers import (set_seed,\n",
    "                          TrainingArguments,\n",
    "                          Trainer,\n",
    "                          GPT2Config,\n",
    "                          GPT2Tokenizer,\n",
    "                          AdamW,\n",
    "                          get_linear_schedule_with_warmup,\n",
    "                          GPT2ForSequenceClassification)"
   ]
  },
  {
   "cell_type": "markdown",
   "id": "ecc00e7c-5556-46f2-9084-cf343a0ac398",
   "metadata": {},
   "source": [
    "# Helper Function"
   ]
  },
  {
   "cell_type": "code",
   "execution_count": 32,
   "id": "2f6a6ac1-7f63-4c9a-98fb-aef2045947f2",
   "metadata": {},
   "outputs": [],
   "source": [
    "def preprocess_amazon_data(df, max_samples=10000):\n",
    "    logging.info(\"Starting data preprocessing\")\n",
    "    \n",
    "    try:\n",
    "        # Data Cleaning\n",
    "        df_filtered = df[['text', 'title', 'rating', 'timestamp', 'helpful_vote']].copy()\n",
    "        \n",
    "        # Combine title and text\n",
    "        df_filtered['combined_text'] = df_filtered.apply(\n",
    "            lambda x: f\"{x['title']} {x['text']}\", axis=1\n",
    "        )\n",
    "        \n",
    "        # Text normalization : removing urls, punctuations, whitespaces\n",
    "        def normalize_text(text):\n",
    "            text = text.lower()\n",
    "            text = re.sub(r'http\\S+|www\\S+|https\\S+', '', text)\n",
    "            text = re.sub(r'[^\\w\\s]', '', text)\n",
    "            text = re.sub(r'\\s+', ' ', text)\n",
    "            return text.strip()\n",
    "        \n",
    "        df_filtered['normalized_text'] = df_filtered['combined_text'].apply(normalize_text)\n",
    "        \n",
    "        # Sentiment Classification\n",
    "        df_filtered['sentiment'] = df_filtered['rating'].apply(\n",
    "            lambda x: 1 if x >= 4 else (0 if x <= 2 else 2)\n",
    "        )\n",
    "        \n",
    "        # Remove neutral reviews\n",
    "        df_filtered = df_filtered[df_filtered['sentiment'] != 2]\n",
    "        \n",
    "        # Balance Dataset\n",
    "        min_samples = min(min(df_filtered['sentiment'].value_counts()), max_samples // 2)\n",
    "        df_balanced = pd.concat([\n",
    "            df_filtered[df_filtered['sentiment'] == label].sample(min_samples)\n",
    "            for label in [0, 1]\n",
    "        ])\n",
    "        \n",
    "        logging.info(f\"Preprocessing completed. Final dataset shape: {df_balanced.shape}\")\n",
    "        return df_balanced\n",
    "        \n",
    "    except Exception as e:\n",
    "        logging.error(f\"Error in preprocessing: {str(e)}\")\n",
    "        raise"
   ]
  },
  {
   "cell_type": "markdown",
   "id": "c4a0b072-675a-406f-9801-316d16a5dd2a",
   "metadata": {},
   "source": [
    "# Helper Class"
   ]
  },
  {
   "cell_type": "code",
   "execution_count": 103,
   "id": "3c6ab001-2589-407e-858f-df478d042c44",
   "metadata": {},
   "outputs": [],
   "source": [
    "class Gpt2ClassificationCollator(object):\n",
    "    \"\"\"\n",
    "    Data Collator used for GPT2 in a classificaiton rask.\n",
    "    \"\"\"\n",
    "    def __init__(self, use_tokenizer, labels_encoder, max_sequence_len=None):\n",
    "        # tokenizer to be used inside the class.\n",
    "        self.use_tokenizer = use_tokenizer\n",
    "        # check max sequence length.\n",
    "        self.max_sequence_len = use_tokenizer.model_max_length if max_sequence_len is None else max_sequence_len\n",
    "        # label encoder used inside the class.\n",
    "        self.labels_encoder = labels_encoder\n",
    "\n",
    "        return\n",
    "\n",
    "    def __call__(self, sequences):\n",
    "        \"\"\"\n",
    "        Load Text and Inputs\n",
    "        \"\"\"\n",
    "        # get all text and label.\n",
    "        texts = [sequence['text'] for sequence in sequences]\n",
    "        labels = [sequence['label'] for sequence in sequences]\n",
    "        # encode all labels using label encoder.\n",
    "        labels = [self.labels_encoder[label] for label in labels]\n",
    "        # use tokenizer get input\n",
    "        inputs = self.use_tokenizer(text=texts, return_tensors=\"pt\", padding=True, truncation=True,\n",
    "                                    max_length=self.max_sequence_len)\n",
    "        inputs.update({'labels': torch.tensor(labels)})\n",
    "\n",
    "        return inputs\n",
    "\n",
    "\n",
    "def train(dataloader, optimizer_, scheduler_, device_):\n",
    "    \"\"\"\n",
    "    Train pytorch model on a single pass through the data loader.\n",
    "    \"\"\"\n",
    "    global model\n",
    "    predictions_label = []\n",
    "    true_label = []\n",
    "    \n",
    "    total_loss = 0\n",
    "\n",
    "    # Set as train mode.\n",
    "    model.train()\n",
    "    \n",
    "    for batch in tqdm(dataloader, total=len(dataloader)):\n",
    "        true_label += batch['labels'].numpy().flatten().tolist()\n",
    "\n",
    "        # move batch to device\n",
    "        batch = {k: v.type(torch.long).to(device_) for k, v in batch.items()}\n",
    "        model.zero_grad()\n",
    "        outputs = model(**batch)\n",
    "\n",
    "        # get logits and loss \n",
    "        loss, logits = outputs[:2]\n",
    "        \n",
    "        # update Loss \n",
    "        total_loss += loss.item()\n",
    "        \n",
    "        # Backward propagation for gradients\n",
    "        loss.backward()\n",
    "\n",
    "        torch.nn.utils.clip_grad_norm_(model.parameters(), 1.0)\n",
    "        # optimize \n",
    "        optimizer_.step()\n",
    "        # update the learning rate.\n",
    "        scheduler_.step()\n",
    "        # get logits and final label\n",
    "        logits = logits.detach().cpu().numpy()\n",
    "        predictions_label += logits.argmax(axis=-1).flatten().tolist()\n",
    "            \n",
    "                \n",
    "    # get avg loss\n",
    "    avg_epoch_loss = total_loss / len(dataloader)\n",
    "\n",
    "    return true_label, predictions_label, avg_epoch_loss\n",
    "\n",
    "\n",
    "\n",
    "class TextDataset(Dataset):\n",
    "    def __init__(self, df, use_tokenizer=None):\n",
    "        \"\"\"\n",
    "        df: pandas DataFrame with 'text' and 'label' columns.\n",
    "        \"\"\"\n",
    "        self.texts = df['text'].tolist()\n",
    "        self.labels = df['rating'].tolist()\n",
    "        self.n_examples = len(self.labels)\n",
    "        self.use_tokenizer = use_tokenizer\n",
    "\n",
    "    def __len__(self):\n",
    "        return self.n_examples\n",
    "\n",
    "    def __getitem__(self, item):\n",
    "       \n",
    "        text = self.texts[item]\n",
    "        label = self.labels[item]\n",
    "        \n",
    "        if self.use_tokenizer:\n",
    "            text = self.use_tokenizer(text)\n",
    "\n",
    "        return {'text': text, 'label': label}\n",
    "\n",
    "def validation(dataloader, device_):\n",
    "\n",
    "    global model\n",
    "    # save labels\n",
    "    predictions_labels = []\n",
    "    true_labels = []\n",
    "    # total loss for this epoch.\n",
    "    total_loss = 0\n",
    "\n",
    "    # evalute\n",
    "    model.eval()\n",
    "    for batch in tqdm(dataloader, total=len(dataloader)):\n",
    "         \n",
    "        # add original labels\n",
    "        true_labels += batch['labels'].numpy().flatten().tolist()\n",
    "        # move batch to device\n",
    "        batch = {k: v.type(torch.long).to(device_) for k, v in batch.items()}\n",
    "         \n",
    "        with torch.no_grad():\n",
    "            outputs = model(**batch)\n",
    "            loss, logits = outputs[:2]\n",
    "            logits = logits.detach().cpu().numpy()\n",
    "            # update loss\n",
    "            total_loss += loss.item()\n",
    "\n",
    "            # get predicitons to list\n",
    "            predict_content = logits.argmax(axis=-1).flatten().tolist()\n",
    "\n",
    "            # update list\n",
    "            predictions_labels += predict_content\n",
    "\n",
    "    # get avg loss\n",
    "    avg_epoch_loss = total_loss / len(dataloader)\n",
    "\n",
    "    return true_labels, predictions_labels, avg_epoch_loss"
   ]
  },
  {
   "cell_type": "markdown",
   "id": "3f086d91-110d-4c41-b399-aa5761b41322",
   "metadata": {},
   "source": [
    "# Training setting"
   ]
  },
  {
   "cell_type": "code",
   "execution_count": 104,
   "id": "19ecbda9-5be2-438a-aeff-e959b8626605",
   "metadata": {},
   "outputs": [],
   "source": [
    "set_seed(0)\n",
    "# for model\n",
    "epochs = 3\n",
    "batch_size = 32\n",
    "max_length = 128\n",
    "# use gpu\n",
    "device = torch.device('cuda' if torch.cuda.is_available() else 'cpu')\n",
    "# the model we want to use.\n",
    "model_name_or_path = 'gpt2'"
   ]
  },
  {
   "cell_type": "code",
   "execution_count": 105,
   "id": "c1cd9957-72fb-4322-914b-dc95b7b5a335",
   "metadata": {},
   "outputs": [],
   "source": [
    "data = []\n",
    "file = 'All_Beauty.jsonl'\n",
    "with open(file, 'r') as fp:\n",
    "    for line in fp:\n",
    "        if line.strip():  # avoid empty lines\n",
    "            record = json.loads(line)\n",
    "            data.append(record)\n",
    "\n",
    "df = pd.DataFrame(data)"
   ]
  },
  {
   "cell_type": "code",
   "execution_count": 106,
   "id": "4422b407-c54a-4640-9f6b-6b1052722790",
   "metadata": {},
   "outputs": [
    {
     "data": {
      "text/html": [
       "<div>\n",
       "<style scoped>\n",
       "    .dataframe tbody tr th:only-of-type {\n",
       "        vertical-align: middle;\n",
       "    }\n",
       "\n",
       "    .dataframe tbody tr th {\n",
       "        vertical-align: top;\n",
       "    }\n",
       "\n",
       "    .dataframe thead th {\n",
       "        text-align: right;\n",
       "    }\n",
       "</style>\n",
       "<table border=\"1\" class=\"dataframe\">\n",
       "  <thead>\n",
       "    <tr style=\"text-align: right;\">\n",
       "      <th></th>\n",
       "      <th>rating</th>\n",
       "      <th>title</th>\n",
       "      <th>text</th>\n",
       "      <th>images</th>\n",
       "      <th>asin</th>\n",
       "      <th>parent_asin</th>\n",
       "      <th>user_id</th>\n",
       "      <th>timestamp</th>\n",
       "      <th>helpful_vote</th>\n",
       "      <th>verified_purchase</th>\n",
       "    </tr>\n",
       "  </thead>\n",
       "  <tbody>\n",
       "    <tr>\n",
       "      <th>0</th>\n",
       "      <td>5.0</td>\n",
       "      <td>Such a lovely scent but not overpowering.</td>\n",
       "      <td>This spray is really nice. It smells really go...</td>\n",
       "      <td>[]</td>\n",
       "      <td>B00YQ6X8EO</td>\n",
       "      <td>B00YQ6X8EO</td>\n",
       "      <td>AGKHLEW2SOWHNMFQIJGBECAF7INQ</td>\n",
       "      <td>1588687728923</td>\n",
       "      <td>0</td>\n",
       "      <td>True</td>\n",
       "    </tr>\n",
       "    <tr>\n",
       "      <th>1</th>\n",
       "      <td>4.0</td>\n",
       "      <td>Works great but smells a little weird.</td>\n",
       "      <td>This product does what I need it to do, I just...</td>\n",
       "      <td>[]</td>\n",
       "      <td>B081TJ8YS3</td>\n",
       "      <td>B081TJ8YS3</td>\n",
       "      <td>AGKHLEW2SOWHNMFQIJGBECAF7INQ</td>\n",
       "      <td>1588615855070</td>\n",
       "      <td>1</td>\n",
       "      <td>True</td>\n",
       "    </tr>\n",
       "    <tr>\n",
       "      <th>2</th>\n",
       "      <td>5.0</td>\n",
       "      <td>Yes!</td>\n",
       "      <td>Smells good, feels great!</td>\n",
       "      <td>[]</td>\n",
       "      <td>B07PNNCSP9</td>\n",
       "      <td>B097R46CSY</td>\n",
       "      <td>AE74DYR3QUGVPZJ3P7RFWBGIX7XQ</td>\n",
       "      <td>1589665266052</td>\n",
       "      <td>2</td>\n",
       "      <td>True</td>\n",
       "    </tr>\n",
       "    <tr>\n",
       "      <th>3</th>\n",
       "      <td>1.0</td>\n",
       "      <td>Synthetic feeling</td>\n",
       "      <td>Felt synthetic</td>\n",
       "      <td>[]</td>\n",
       "      <td>B09JS339BZ</td>\n",
       "      <td>B09JS339BZ</td>\n",
       "      <td>AFQLNQNQYFWQZPJQZS6V3NZU4QBQ</td>\n",
       "      <td>1643393630220</td>\n",
       "      <td>0</td>\n",
       "      <td>True</td>\n",
       "    </tr>\n",
       "    <tr>\n",
       "      <th>4</th>\n",
       "      <td>5.0</td>\n",
       "      <td>A+</td>\n",
       "      <td>Love it</td>\n",
       "      <td>[]</td>\n",
       "      <td>B08BZ63GMJ</td>\n",
       "      <td>B08BZ63GMJ</td>\n",
       "      <td>AFQLNQNQYFWQZPJQZS6V3NZU4QBQ</td>\n",
       "      <td>1609322563534</td>\n",
       "      <td>0</td>\n",
       "      <td>True</td>\n",
       "    </tr>\n",
       "  </tbody>\n",
       "</table>\n",
       "</div>"
      ],
      "text/plain": [
       "   rating                                      title  \\\n",
       "0     5.0  Such a lovely scent but not overpowering.   \n",
       "1     4.0     Works great but smells a little weird.   \n",
       "2     5.0                                       Yes!   \n",
       "3     1.0                          Synthetic feeling   \n",
       "4     5.0                                         A+   \n",
       "\n",
       "                                                text images        asin  \\\n",
       "0  This spray is really nice. It smells really go...     []  B00YQ6X8EO   \n",
       "1  This product does what I need it to do, I just...     []  B081TJ8YS3   \n",
       "2                          Smells good, feels great!     []  B07PNNCSP9   \n",
       "3                                     Felt synthetic     []  B09JS339BZ   \n",
       "4                                            Love it     []  B08BZ63GMJ   \n",
       "\n",
       "  parent_asin                       user_id      timestamp  helpful_vote  \\\n",
       "0  B00YQ6X8EO  AGKHLEW2SOWHNMFQIJGBECAF7INQ  1588687728923             0   \n",
       "1  B081TJ8YS3  AGKHLEW2SOWHNMFQIJGBECAF7INQ  1588615855070             1   \n",
       "2  B097R46CSY  AE74DYR3QUGVPZJ3P7RFWBGIX7XQ  1589665266052             2   \n",
       "3  B09JS339BZ  AFQLNQNQYFWQZPJQZS6V3NZU4QBQ  1643393630220             0   \n",
       "4  B08BZ63GMJ  AFQLNQNQYFWQZPJQZS6V3NZU4QBQ  1609322563534             0   \n",
       "\n",
       "   verified_purchase  \n",
       "0               True  \n",
       "1               True  \n",
       "2               True  \n",
       "3               True  \n",
       "4               True  "
      ]
     },
     "execution_count": 106,
     "metadata": {},
     "output_type": "execute_result"
    }
   ],
   "source": [
    "df.head()"
   ]
  },
  {
   "cell_type": "code",
   "execution_count": 107,
   "id": "08239afc-2d48-4b22-900d-61fec5695d15",
   "metadata": {},
   "outputs": [],
   "source": [
    "df_balanced = preprocess_amazon_data(df)"
   ]
  },
  {
   "cell_type": "code",
   "execution_count": 108,
   "id": "466fde36-03af-42da-8b9d-1c232e3661df",
   "metadata": {},
   "outputs": [
    {
     "data": {
      "text/html": [
       "<div>\n",
       "<style scoped>\n",
       "    .dataframe tbody tr th:only-of-type {\n",
       "        vertical-align: middle;\n",
       "    }\n",
       "\n",
       "    .dataframe tbody tr th {\n",
       "        vertical-align: top;\n",
       "    }\n",
       "\n",
       "    .dataframe thead th {\n",
       "        text-align: right;\n",
       "    }\n",
       "</style>\n",
       "<table border=\"1\" class=\"dataframe\">\n",
       "  <thead>\n",
       "    <tr style=\"text-align: right;\">\n",
       "      <th></th>\n",
       "      <th>text</th>\n",
       "      <th>rating</th>\n",
       "    </tr>\n",
       "  </thead>\n",
       "  <tbody>\n",
       "    <tr>\n",
       "      <th>121671</th>\n",
       "      <td>not much difference i wont say they didnt work...</td>\n",
       "      <td>0</td>\n",
       "    </tr>\n",
       "    <tr>\n",
       "      <th>256727</th>\n",
       "      <td>sized small it claims to be an xl cap but its ...</td>\n",
       "      <td>0</td>\n",
       "    </tr>\n",
       "    <tr>\n",
       "      <th>58231</th>\n",
       "      <td>two stars this product did not really work for...</td>\n",
       "      <td>0</td>\n",
       "    </tr>\n",
       "    <tr>\n",
       "      <th>203586</th>\n",
       "      <td>unsure not sure it works pretty expensive</td>\n",
       "      <td>0</td>\n",
       "    </tr>\n",
       "    <tr>\n",
       "      <th>108834</th>\n",
       "      <td>hair mascara smears on others and irritates eyes</td>\n",
       "      <td>0</td>\n",
       "    </tr>\n",
       "  </tbody>\n",
       "</table>\n",
       "</div>"
      ],
      "text/plain": [
       "                                                     text  rating\n",
       "121671  not much difference i wont say they didnt work...       0\n",
       "256727  sized small it claims to be an xl cap but its ...       0\n",
       "58231   two stars this product did not really work for...       0\n",
       "203586          unsure not sure it works pretty expensive       0\n",
       "108834   hair mascara smears on others and irritates eyes       0"
      ]
     },
     "execution_count": 108,
     "metadata": {},
     "output_type": "execute_result"
    }
   ],
   "source": [
    "df_balanced = df_balanced[['normalized_text','sentiment']].rename(columns={\n",
    "    'normalized_text': 'text',\n",
    "    'sentiment': 'rating'})\n",
    "df_balanced.head()"
   ]
  },
  {
   "cell_type": "code",
   "execution_count": 109,
   "id": "1009cfad-9150-418b-bacc-f4313c16ff27",
   "metadata": {},
   "outputs": [],
   "source": [
    "train_df, test_df = train_test_split(df_balanced, test_size=0.2, random_state=42)"
   ]
  },
  {
   "cell_type": "code",
   "execution_count": 110,
   "id": "36837f01-45ea-42d0-b9f9-b33c35313d04",
   "metadata": {},
   "outputs": [
    {
     "name": "stdout",
     "output_type": "stream",
     "text": [
      "Loading configuraiton...\n",
      "Loading tokenizer...\n"
     ]
    }
   ],
   "source": [
    "# labels \n",
    "labels_ids = { 1: 1, 0: 0}\n",
    "n_labels=2\n",
    "print('Loading configuraiton...')\n",
    "model_config = GPT2Config.from_pretrained(pretrained_model_name_or_path=model_name_or_path, num_labels=n_labels)\n",
    "\n",
    "# get model tokenizer.\n",
    "print('Loading tokenizer...')\n",
    "tokenizer = GPT2Tokenizer.from_pretrained(pretrained_model_name_or_path=model_name_or_path)\n",
    "# padding setting\n",
    "tokenizer.padding_side = \"left\"\n",
    "tokenizer.pad_token = tokenizer.eos_token"
   ]
  },
  {
   "cell_type": "code",
   "execution_count": 111,
   "id": "a5787910-e46d-41d6-8ca8-84848cc02948",
   "metadata": {},
   "outputs": [
    {
     "name": "stdout",
     "output_type": "stream",
     "text": [
      "Loading model...\n"
     ]
    },
    {
     "name": "stderr",
     "output_type": "stream",
     "text": [
      "Some weights of GPT2ForSequenceClassification were not initialized from the model checkpoint at gpt2 and are newly initialized: ['score.weight']\n",
      "You should probably TRAIN this model on a down-stream task to be able to use it for predictions and inference.\n"
     ]
    },
    {
     "data": {
      "text/plain": [
       "GPT2ForSequenceClassification(\n",
       "  (transformer): GPT2Model(\n",
       "    (wte): Embedding(50257, 768)\n",
       "    (wpe): Embedding(1024, 768)\n",
       "    (drop): Dropout(p=0.1, inplace=False)\n",
       "    (h): ModuleList(\n",
       "      (0-11): 12 x GPT2Block(\n",
       "        (ln_1): LayerNorm((768,), eps=1e-05, elementwise_affine=True)\n",
       "        (attn): GPT2SdpaAttention(\n",
       "          (c_attn): Conv1D(nf=2304, nx=768)\n",
       "          (c_proj): Conv1D(nf=768, nx=768)\n",
       "          (attn_dropout): Dropout(p=0.1, inplace=False)\n",
       "          (resid_dropout): Dropout(p=0.1, inplace=False)\n",
       "        )\n",
       "        (ln_2): LayerNorm((768,), eps=1e-05, elementwise_affine=True)\n",
       "        (mlp): GPT2MLP(\n",
       "          (c_fc): Conv1D(nf=3072, nx=768)\n",
       "          (c_proj): Conv1D(nf=768, nx=3072)\n",
       "          (act): NewGELUActivation()\n",
       "          (dropout): Dropout(p=0.1, inplace=False)\n",
       "        )\n",
       "      )\n",
       "    )\n",
       "    (ln_f): LayerNorm((768,), eps=1e-05, elementwise_affine=True)\n",
       "  )\n",
       "  (score): Linear(in_features=768, out_features=2, bias=False)\n",
       ")"
      ]
     },
     "execution_count": 111,
     "metadata": {},
     "output_type": "execute_result"
    }
   ],
   "source": [
    "print('Loading model...')\n",
    "model = GPT2ForSequenceClassification.from_pretrained(pretrained_model_name_or_path=model_name_or_path, config=model_config)\n",
    "\n",
    "# resize model embedding as len of tokenize\n",
    "model.resize_token_embeddings(len(tokenizer))\n",
    "\n",
    "# fix model padding token id \n",
    "model.config.pad_token_id = model.config.eos_token_id\n",
    "\n",
    "model.to(device)"
   ]
  },
  {
   "cell_type": "code",
   "execution_count": 113,
   "id": "a4743846-2a6d-4ff3-9f70-4b151c1eda48",
   "metadata": {},
   "outputs": [
    {
     "name": "stdout",
     "output_type": "stream",
     "text": [
      "Dealing with Train...\n",
      "Created `train_dataset` with 8000 examples!\n",
      "Created `train_dataloader` with 250 batches!\n",
      "Dealing with Validation...\n",
      "Created `valid_dataset` with 2000 examples!\n",
      "Created `eval_dataloader` with 63 batches!\n",
      "Epoch\n"
     ]
    },
    {
     "name": "stderr",
     "output_type": "stream",
     "text": [
      "G:\\Anaconda3\\envs\\pytorch\\lib\\site-packages\\transformers\\optimization.py:591: FutureWarning: This implementation of AdamW is deprecated and will be removed in a future version. Use the PyTorch implementation torch.optim.AdamW instead, or set `no_deprecation_warning=True` to disable this warning\n",
      "  warnings.warn(\n"
     ]
    },
    {
     "data": {
      "application/vnd.jupyter.widget-view+json": {
       "model_id": "79abbaf1931242a8b100e1d662fdca5a",
       "version_major": 2,
       "version_minor": 0
      },
      "text/plain": [
       "  0%|          | 0/3 [00:00<?, ?it/s]"
      ]
     },
     "metadata": {},
     "output_type": "display_data"
    },
    {
     "name": "stdout",
     "output_type": "stream",
     "text": [
      "\n",
      "Training on batches...\n"
     ]
    },
    {
     "data": {
      "application/vnd.jupyter.widget-view+json": {
       "model_id": "0276087bed994ac2974bccf69da59591",
       "version_major": 2,
       "version_minor": 0
      },
      "text/plain": [
       "  0%|          | 0/250 [00:00<?, ?it/s]"
      ]
     },
     "metadata": {},
     "output_type": "display_data"
    },
    {
     "name": "stdout",
     "output_type": "stream",
     "text": [
      "Validation on batches...\n"
     ]
    },
    {
     "data": {
      "application/vnd.jupyter.widget-view+json": {
       "model_id": "ab2931901e4743dfa38bebc52db26bd9",
       "version_major": 2,
       "version_minor": 0
      },
      "text/plain": [
       "  0%|          | 0/63 [00:00<?, ?it/s]"
      ]
     },
     "metadata": {},
     "output_type": "display_data"
    },
    {
     "name": "stdout",
     "output_type": "stream",
     "text": [
      "  train_loss: 0.14224 - val_loss: 0.17823 - train_acc: 0.94988 - valid_acc: 0.94150\n",
      "\n",
      "Training on batches...\n"
     ]
    },
    {
     "data": {
      "application/vnd.jupyter.widget-view+json": {
       "model_id": "3491fb73f25246308d4df92b2210fcc6",
       "version_major": 2,
       "version_minor": 0
      },
      "text/plain": [
       "  0%|          | 0/250 [00:00<?, ?it/s]"
      ]
     },
     "metadata": {},
     "output_type": "display_data"
    },
    {
     "name": "stdout",
     "output_type": "stream",
     "text": [
      "Validation on batches...\n"
     ]
    },
    {
     "data": {
      "application/vnd.jupyter.widget-view+json": {
       "model_id": "2c5f2ca877aa41119f450aa148819267",
       "version_major": 2,
       "version_minor": 0
      },
      "text/plain": [
       "  0%|          | 0/63 [00:00<?, ?it/s]"
      ]
     },
     "metadata": {},
     "output_type": "display_data"
    },
    {
     "name": "stdout",
     "output_type": "stream",
     "text": [
      "  train_loss: 0.09596 - val_loss: 0.19349 - train_acc: 0.96475 - valid_acc: 0.94450\n",
      "\n",
      "Training on batches...\n"
     ]
    },
    {
     "data": {
      "application/vnd.jupyter.widget-view+json": {
       "model_id": "1d6ed1de674f46f6924fe0685f8eebdc",
       "version_major": 2,
       "version_minor": 0
      },
      "text/plain": [
       "  0%|          | 0/250 [00:00<?, ?it/s]"
      ]
     },
     "metadata": {},
     "output_type": "display_data"
    },
    {
     "name": "stdout",
     "output_type": "stream",
     "text": [
      "Validation on batches...\n"
     ]
    },
    {
     "data": {
      "application/vnd.jupyter.widget-view+json": {
       "model_id": "5a9f377fcc6d44f0b200b93b72a9a1a0",
       "version_major": 2,
       "version_minor": 0
      },
      "text/plain": [
       "  0%|          | 0/63 [00:00<?, ?it/s]"
      ]
     },
     "metadata": {},
     "output_type": "display_data"
    },
    {
     "name": "stdout",
     "output_type": "stream",
     "text": [
      "  train_loss: 0.06550 - val_loss: 0.20502 - train_acc: 0.97862 - valid_acc: 0.94600\n"
     ]
    }
   ],
   "source": [
    "print('Dealing with Train...')\n",
    "# create train set\n",
    "train_dataset = TextDataset(train_df)\n",
    "print('Created `train_dataset` with %d examples!'%len(train_dataset))\n",
    "gpt2_classificaiton_collator = Gpt2ClassificationCollator(use_tokenizer=tokenizer,\n",
    "                                                          labels_encoder=labels_ids,\n",
    "                                                          max_sequence_len=max_length)\n",
    "\n",
    "train_dataloader = DataLoader(train_dataset, batch_size=batch_size, shuffle=True, collate_fn=gpt2_classificaiton_collator)\n",
    "print('Created `train_dataloader` with %d batches!'%len(train_dataloader))\n",
    "\n",
    "print('Dealing with Validation...')\n",
    "# create test set\n",
    "valid_dataset =  TextDataset(test_df)\n",
    "print('Created `valid_dataset` with %d examples!'%len(valid_dataset))\n",
    "valid_dataloader = DataLoader(valid_dataset, batch_size=batch_size, shuffle=False, collate_fn=gpt2_classificaiton_collator)\n",
    "print('Created `eval_dataloader` with %d batches!'%len(valid_dataloader))\n",
    "# Out optimizer\n",
    "optimizer = AdamW(model.parameters(),\n",
    "                  lr = 5e-5, # default is 5e-5\n",
    "                  eps = 1e-8 # default is 1e-8.\n",
    "                  )\n",
    "\n",
    "total_steps = len(train_dataloader) * epochs\n",
    "\n",
    "# create the learning rate scheduler.\n",
    "scheduler = get_linear_schedule_with_warmup(optimizer,\n",
    "                                            num_warmup_steps = 0, # Default value in run_glue.py\n",
    "                                            num_training_steps = total_steps)\n",
    "\n",
    "# Store the average loss after each epoch so we can plot them.\n",
    "all_loss = {'train_loss':[], 'val_loss':[]}\n",
    "\n",
    "all_acc = {'train_acc':[], 'val_acc':[]}\n",
    "\n",
    "\n",
    "print('Epoch')\n",
    "for epoch in tqdm(range(epochs)):\n",
    "    print()\n",
    "    print('Training on batches...')\n",
    "    # Perform one full pass over the training set.\n",
    "    train_labels, train_predict, train_loss = train(train_dataloader, optimizer, scheduler, device)\n",
    "    train_acc = accuracy_score(train_labels, train_predict)\n",
    "\n",
    "    print('Validation on batches...')\n",
    "    valid_labels, valid_predict, val_loss = validation(valid_dataloader, device)\n",
    "    val_acc = accuracy_score(valid_labels, valid_predict)\n",
    "\n",
    "    print(\"  train_loss: %.5f - val_loss: %.5f - train_acc: %.5f - valid_acc: %.5f\"%(train_loss, val_loss, train_acc, val_acc))\n",
    "\n",
    "    # get loss value for plotting the learning curve\n",
    "    all_loss['train_loss'].append(train_loss)\n",
    "    all_loss['val_loss'].append(val_loss)\n",
    "    all_acc['train_acc'].append(train_acc)\n",
    "    all_acc['val_acc'].append(val_acc)"
   ]
  },
  {
   "cell_type": "code",
   "execution_count": 114,
   "id": "0d1dc664-9b7c-4d23-b5d0-93ae9b1d68bd",
   "metadata": {},
   "outputs": [
    {
     "data": {
      "text/plain": [
       "('GPT2_2labes_10000\\\\tokenizer_config.json',\n",
       " 'GPT2_2labes_10000\\\\special_tokens_map.json',\n",
       " 'GPT2_2labes_10000\\\\vocab.json',\n",
       " 'GPT2_2labes_10000\\\\merges.txt',\n",
       " 'GPT2_2labes_10000\\\\added_tokens.json')"
      ]
     },
     "execution_count": 114,
     "metadata": {},
     "output_type": "execute_result"
    }
   ],
   "source": [
    "model.save_pretrained(\"GPT2_2labes_10000\")\n",
    "tokenizer.save_pretrained(\"GPT2_2labes_10000\")"
   ]
  },
  {
   "cell_type": "code",
   "execution_count": 116,
   "id": "c791a80d-d5aa-434e-a1ae-61618f5fc148",
   "metadata": {},
   "outputs": [],
   "source": [
    "data = {**all_loss, **all_acc}\n",
    "df = pd.DataFrame(data)"
   ]
  },
  {
   "cell_type": "markdown",
   "id": "6b7efe4c-57eb-4bfe-841b-dd460cf64d51",
   "metadata": {},
   "source": [
    "# Plot Loss"
   ]
  },
  {
   "cell_type": "code",
   "execution_count": 117,
   "id": "14fdad72-8e40-40eb-ab72-3759abad6c7e",
   "metadata": {},
   "outputs": [
    {
     "data": {
      "image/png": "[encoded data removed]",
      "text/plain": [
       "<Figure size 1000x600 with 1 Axes>"
      ]
     },
     "metadata": {},
     "output_type": "display_data"
    }
   ],
   "source": [
    "import matplotlib.pyplot as plt\n",
    "plt.figure(figsize=(10, 6))\n",
    "plt.plot(df.index+1, df['train_loss'], label='train_loss', marker='o')\n",
    "plt.xticks(ticks=(df.index + 1))\n",
    "plt.xlabel('Epochs')\n",
    "plt.ylabel('Train_loss')\n",
    "plt.legend()\n",
    "plt.show()"
   ]
  },
  {
   "cell_type": "code",
   "execution_count": 118,
   "id": "2c4fd293-4880-4e48-a2e0-7292fdecb58e",
   "metadata": {},
   "outputs": [
    {
     "data": {
      "image/png": "[encoded data removed]",
      "text/plain": [
       "<Figure size 1000x600 with 1 Axes>"
      ]
     },
     "metadata": {},
     "output_type": "display_data"
    }
   ],
   "source": [
    "plt.figure(figsize=(10, 6))\n",
    "plt.plot(df.index+1, df['train_acc'], label='train_acc', marker='o')\n",
    "plt.plot(df.index+1, df['val_acc'], label='val_acc', marker='o')\n",
    "plt.xticks(ticks=(df.index + 1))\n",
    "plt.xlabel('Epochs')\n",
    "plt.ylabel('Train and Val acc')\n",
    "plt.legend()\n",
    "plt.show()"
   ]
  },
  {
   "cell_type": "markdown",
   "id": "ce03fc5e-4b51-4f4c-b07e-160f48f5babb",
   "metadata": {},
   "source": [
    "# classification report"
   ]
  },
  {
   "cell_type": "code",
   "execution_count": 119,
   "id": "8e693c6b-4f28-4d68-944f-368a7f07f32b",
   "metadata": {},
   "outputs": [],
   "source": [
    "from torch.utils.data import DataLoader, TensorDataset\n",
    "from sklearn.metrics import classification_report\n",
    "\n",
    "inputs = tokenizer(\n",
    "    test_df['text'].tolist(),\n",
    "    return_tensors=\"pt\",\n",
    "    padding=True,\n",
    "    truncation=True,\n",
    "    max_length=max_length\n",
    ")\n",
    "dataset = TensorDataset(inputs['input_ids'], inputs['attention_mask'])\n",
    "batch_size = 16  \n",
    "dataloader = DataLoader(dataset, batch_size=batch_size)\n",
    "device = torch.device(\"cuda\" if torch.cuda.is_available() else \"cpu\")\n",
    "model.to(device)\n",
    "model.eval()\n",
    "all_predictions = []\n",
    "\n",
    "with torch.no_grad():\n",
    "    for batch in dataloader:\n",
    "        batch_input_ids = batch[0].to(device)\n",
    "        batch_attention_mask = batch[1].to(device)\n",
    "\n",
    "        batch_inputs = {\n",
    "            'input_ids': batch_input_ids,\n",
    "            'attention_mask': batch_attention_mask\n",
    "        }\n",
    "\n",
    "        outputs = model(**batch_inputs)\n",
    "        logits = outputs.logits\n",
    "\n",
    "        # get prediction\n",
    "        predictions = torch.argmax(logits, dim=-1).cpu().numpy()\n",
    "\n",
    "        # append prediction\n",
    "        all_predictions.extend(predictions)\n",
    "\n",
    "all_predictions = torch.tensor(all_predictions).numpy()"
   ]
  },
  {
   "cell_type": "code",
   "execution_count": 122,
   "id": "2185cca8-7fd9-4923-be0f-1d3caafddb90",
   "metadata": {},
   "outputs": [
    {
     "name": "stdout",
     "output_type": "stream",
     "text": [
      "              precision    recall  f1-score   support\n",
      "\n",
      "           0       0.96      0.94      0.95      1012\n",
      "           1       0.94      0.96      0.95       988\n",
      "\n",
      "    accuracy                           0.95      2000\n",
      "   macro avg       0.95      0.95      0.95      2000\n",
      "weighted avg       0.95      0.95      0.95      2000\n",
      "\n"
     ]
    }
   ],
   "source": [
    "\n",
    "report = classification_report(\n",
    "    test_df['rating'],\n",
    "    predicted_labels,\n",
    ")\n",
    "print(report)"
   ]
  },
  {
   "cell_type": "code",
   "execution_count": 124,
   "id": "a86a5000-e1eb-49c3-9bd5-9c547ad0ac1a",
   "metadata": {},
   "outputs": [
    {
     "name": "stdout",
     "output_type": "stream",
     "text": [
      "Model Summary:\n"
     ]
    },
    {
     "data": {
      "text/plain": [
       "====================================================================================================\n",
       "Layer (type:depth-idx)                             Output Shape              Param #\n",
       "====================================================================================================\n",
       "GPT2ForSequenceClassification                      [1, 12, 1024, 64]         --\n",
       "├─GPT2Model: 1-1                                   [1, 12, 1024, 64]         --\n",
       "│    └─Embedding: 2-1                              [1, 1024, 768]            38,597,376\n",
       "│    └─Embedding: 2-2                              [1, 1024, 768]            786,432\n",
       "│    └─Dropout: 2-3                                [1, 1024, 768]            --\n",
       "│    └─ModuleList: 2-4                             --                        --\n",
       "│    │    └─GPT2Block: 3-1                         [1, 1024, 768]            7,087,872\n",
       "│    │    └─GPT2Block: 3-2                         [1, 1024, 768]            7,087,872\n",
       "│    │    └─GPT2Block: 3-3                         [1, 1024, 768]            7,087,872\n",
       "│    │    └─GPT2Block: 3-4                         [1, 1024, 768]            7,087,872\n",
       "│    │    └─GPT2Block: 3-5                         [1, 1024, 768]            7,087,872\n",
       "│    │    └─GPT2Block: 3-6                         [1, 1024, 768]            7,087,872\n",
       "│    │    └─GPT2Block: 3-7                         [1, 1024, 768]            7,087,872\n",
       "│    │    └─GPT2Block: 3-8                         [1, 1024, 768]            7,087,872\n",
       "│    │    └─GPT2Block: 3-9                         [1, 1024, 768]            7,087,872\n",
       "│    │    └─GPT2Block: 3-10                        [1, 1024, 768]            7,087,872\n",
       "│    │    └─GPT2Block: 3-11                        [1, 1024, 768]            7,087,872\n",
       "│    │    └─GPT2Block: 3-12                        [1, 1024, 768]            7,087,872\n",
       "│    └─LayerNorm: 2-5                              [1, 1024, 768]            1,536\n",
       "├─Linear: 1-2                                      [1, 1024, 2]              1,536\n",
       "====================================================================================================\n",
       "Total params: 124,441,344\n",
       "Trainable params: 124,441,344\n",
       "Non-trainable params: 0\n",
       "Total mult-adds (G): 163.31\n",
       "====================================================================================================\n",
       "Input size (MB): 0.01\n",
       "Forward/backward pass size (MB): 849.36\n",
       "Params size (MB): 497.77\n",
       "Estimated Total Size (MB): 1347.14\n",
       "===================================================================================================="
      ]
     },
     "execution_count": 124,
     "metadata": {},
     "output_type": "execute_result"
    }
   ],
   "source": [
    "from torchinfo import summary\n",
    "print(\"Model Summary:\")\n",
    "summary(model, input_size=(1, model.config.n_positions), dtypes=[torch.long])"
   ]
  }
 ],
 "metadata": {
  "kernelspec": {
   "display_name": "pytorch",
   "language": "python",
   "name": "pytorch"
  },
  "language_info": {
   "codemirror_mode": {
    "name": "ipython",
    "version": 3
   },
   "file_extension": ".py",
   "mimetype": "text/x-python",
   "name": "python",
   "nbconvert_exporter": "python",
   "pygments_lexer": "ipython3",
   "version": "3.9.20"
  }
 },
 "nbformat": 4,
 "nbformat_minor": 5
}
