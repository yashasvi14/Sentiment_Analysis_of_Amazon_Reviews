{
 "cells": [
  {
   "cell_type": "markdown",
   "id": "286d3a76-5924-4b93-9bac-abe45c5c5e4d",
   "metadata": {},
   "source": [
    "# GPT2-Sentiment Classification"
   ]
  },
  {
   "cell_type": "code",
   "execution_count": 28,
   "id": "e734bbad-afab-4a6c-9e0f-f7d606449bad",
   "metadata": {},
   "outputs": [],
   "source": [
    "import json\n",
    "import os\n",
    "import re\n",
    "from torch.utils.data import Dataset, DataLoader\n",
    "import pandas as pd\n",
    "import torch\n",
    "from sklearn.model_selection import train_test_split\n",
    "from tqdm.notebook import tqdm\n",
    "from torch.utils.data import Dataset, DataLoader\n",
    "from sklearn.metrics import classification_report, accuracy_score\n",
    "from transformers import (set_seed,\n",
    "                          TrainingArguments,\n",
    "                          Trainer,\n",
    "                          GPT2Config,\n",
    "                          GPT2Tokenizer,\n",
    "                          AdamW,\n",
    "                          get_linear_schedule_with_warmup,\n",
    "                          GPT2ForSequenceClassification)"
   ]
  },
  {
   "cell_type": "markdown",
   "id": "9b5cd3d1-7919-4b07-9b15-4503745b2095",
   "metadata": {},
   "source": [
    "## Helper Function"
   ]
  },
  {
   "cell_type": "code",
   "execution_count": 29,
   "id": "cf3dcc29-4c85-4607-aa9a-a2c1ee71fc77",
   "metadata": {},
   "outputs": [],
   "source": [
    "# Helper function to process our corpus\n",
    "def preprocess(text):\n",
    "    text = re.sub(r'[^\\w\\s\\']',' ', text)\n",
    "    text = re.sub(' +', ' ', text)\n",
    "    return text.strip().lower()"
   ]
  },
  {
   "cell_type": "markdown",
   "id": "b4178e34-fe6e-428a-b6f2-23d97c400723",
   "metadata": {},
   "source": [
    "## Helper Class"
   ]
  },
  {
   "cell_type": "code",
   "execution_count": 39,
   "id": "ffd89ca8-bd04-4ca2-88a7-a251d1b5fb3d",
   "metadata": {},
   "outputs": [],
   "source": [
    "class Gpt2ClassificationCollator(object):\n",
    "    \"\"\"\n",
    "    Data Collator used for GPT2 in a classificaiton rask.\n",
    "    \"\"\"\n",
    "    def __init__(self, use_tokenizer, labels_encoder, max_sequence_len=None):\n",
    "        # tokenizer to be used inside the class.\n",
    "        self.use_tokenizer = use_tokenizer\n",
    "        # check max sequence length.\n",
    "        self.max_sequence_len = use_tokenizer.model_max_length if max_sequence_len is None else max_sequence_len\n",
    "        # label encoder used inside the class.\n",
    "        self.labels_encoder = labels_encoder\n",
    "\n",
    "        return\n",
    "\n",
    "    def __call__(self, sequences):\n",
    "        \"\"\"\n",
    "        Load Text and Inputs\n",
    "        \"\"\"\n",
    "        # get all text and label.\n",
    "        texts = [sequence['text'] for sequence in sequences]\n",
    "        labels = [sequence['label'] for sequence in sequences]\n",
    "        # encode all labels using label encoder.\n",
    "        labels = [self.labels_encoder[label] for label in labels]\n",
    "        # use tokenizer get input\n",
    "        inputs = self.use_tokenizer(text=texts, return_tensors=\"pt\", padding=True, truncation=True,\n",
    "                                    max_length=self.max_sequence_len)\n",
    "        inputs.update({'labels': torch.tensor(labels)})\n",
    "\n",
    "        return inputs\n",
    "\n",
    "\n",
    "def train(dataloader, optimizer_, scheduler_, device_):\n",
    "    \"\"\"\n",
    "    Train pytorch model on a single pass through the data loader.\n",
    "    \"\"\"\n",
    "    global model\n",
    "    predictions_label = []\n",
    "    true_label = []\n",
    "    \n",
    "    total_loss = 0\n",
    "\n",
    "    # Set as train mode.\n",
    "    model.train()\n",
    "    \n",
    "    for batch in tqdm(dataloader, total=len(dataloader)):\n",
    "        true_label += batch['labels'].numpy().flatten().tolist()\n",
    "\n",
    "        # move batch to device\n",
    "        batch = {k: v.type(torch.long).to(device_) for k, v in batch.items()}\n",
    "        model.zero_grad()\n",
    "        outputs = model(**batch)\n",
    "\n",
    "        # get logits and loss \n",
    "        loss, logits = outputs[:2]\n",
    "        \n",
    "        # update Loss \n",
    "        total_loss += loss.item()\n",
    "        \n",
    "        # Backward propagation for gradients\n",
    "        loss.backward()\n",
    "\n",
    "        torch.nn.utils.clip_grad_norm_(model.parameters(), 1.0)\n",
    "        # optimize \n",
    "        optimizer_.step()\n",
    "        # update the learning rate.\n",
    "        scheduler_.step()\n",
    "        # get logits and final label\n",
    "        logits = logits.detach().cpu().numpy()\n",
    "        predictions_label += logits.argmax(axis=-1).flatten().tolist()\n",
    "            \n",
    "                \n",
    "    # get avg loss\n",
    "    avg_epoch_loss = total_loss / len(dataloader)\n",
    "\n",
    "    return true_label, predictions_label, avg_epoch_loss\n",
    "\n",
    "\n",
    "\n",
    "class TextDataset(Dataset):\n",
    "    def __init__(self, df, use_tokenizer=None):\n",
    "        \"\"\"\n",
    "        df: pandas DataFrame with 'text' and 'label' columns.\n",
    "        \"\"\"\n",
    "        self.texts = df['category_description'].tolist()\n",
    "        self.labels = df['rating'].tolist()\n",
    "        self.n_examples = len(self.labels)\n",
    "        self.use_tokenizer = use_tokenizer\n",
    "\n",
    "    def __len__(self):\n",
    "        return self.n_examples\n",
    "\n",
    "    def __getitem__(self, item):\n",
    "       \n",
    "        text = self.texts[item]\n",
    "        label = self.labels[item]\n",
    "        \n",
    "        if self.use_tokenizer:\n",
    "            text = self.use_tokenizer(text)\n",
    "\n",
    "        return {'text': text, 'label': label}\n",
    "\n",
    "def validation(dataloader, device_):\n",
    "\n",
    "    global model\n",
    "    # save labels\n",
    "    predictions_labels = []\n",
    "    true_labels = []\n",
    "    # total loss for this epoch.\n",
    "    total_loss = 0\n",
    "\n",
    "    # evalute\n",
    "    model.eval()\n",
    "    for batch in tqdm(dataloader, total=len(dataloader)):\n",
    "         \n",
    "        # add original labels\n",
    "        true_labels += batch['labels'].numpy().flatten().tolist()\n",
    "        # move batch to device\n",
    "        batch = {k: v.type(torch.long).to(device_) for k, v in batch.items()}\n",
    "         \n",
    "        with torch.no_grad():\n",
    "            outputs = model(**batch)\n",
    "            loss, logits = outputs[:2]\n",
    "            logits = logits.detach().cpu().numpy()\n",
    "            # update loss\n",
    "            total_loss += loss.item()\n",
    "\n",
    "            # get predicitons to list\n",
    "            predict_content = logits.argmax(axis=-1).flatten().tolist()\n",
    "\n",
    "            # update list\n",
    "            predictions_labels += predict_content\n",
    "\n",
    "    # get avg loss\n",
    "    avg_epoch_loss = total_loss / len(dataloader)\n",
    "\n",
    "    return true_labels, predictions_labels, avg_epoch_loss"
   ]
  },
  {
   "cell_type": "markdown",
   "id": "9dac10b9-781f-44eb-b31e-864c53845499",
   "metadata": {},
   "source": [
    "## Training Setting"
   ]
  },
  {
   "cell_type": "code",
   "execution_count": 40,
   "id": "f52c9f28-79e7-49cf-8f5c-3f5dcd8b4616",
   "metadata": {},
   "outputs": [],
   "source": [
    "set_seed(0)\n",
    "# for model\n",
    "epochs = 3\n",
    "batch_size = 32\n",
    "max_length = 128\n",
    "# use gpu\n",
    "device = torch.device('cuda' if torch.cuda.is_available() else 'cpu')\n",
    "# the model we want to use.\n",
    "model_name_or_path = 'gpt2'"
   ]
  },
  {
   "cell_type": "code",
   "execution_count": 66,
   "id": "96027db2-62ab-48f4-8784-17db45e48bcd",
   "metadata": {},
   "outputs": [],
   "source": [
    "## Load data\n",
    "data = []\n",
    "file = 'All_Beauty.jsonl'\n",
    "with open(file, 'r') as fp:\n",
    "    for line in fp:\n",
    "        if line.strip():  # avoid empty lines\n",
    "            record = json.loads(line)\n",
    "            data.append({'rating': record.get('rating'), 'text': record.get('text')})\n",
    "\n",
    "df = pd.DataFrame(data)\n",
    "\n",
    "df['text'] = df['text'].map(preprocess)\n",
    "df = df[df['rating'] != 3]\n",
    "df['rating'] = df['rating'].replace({5: 'Positive', 4: 'Positive', 2: 'Negative', 1: 'Negative'})\n",
    "n_labels = 2"
   ]
  },
  {
   "cell_type": "code",
   "execution_count": 67,
   "id": "843a7206-006e-49f3-a396-237ebbc5241b",
   "metadata": {},
   "outputs": [
    {
     "name": "stdout",
     "output_type": "stream",
     "text": [
      "Loading configuraiton...\n",
      "Loading tokenizer...\n"
     ]
    }
   ],
   "source": [
    "# train/test-spilte\n",
    "train_df, test_df = train_test_split(df, test_size=0.2, random_state=42)\n",
    "# labels \n",
    "labels_ids = { 'Positive': 1, 'Negative': 0}\n",
    "\n",
    "print('Loading configuraiton...')\n",
    "model_config = GPT2Config.from_pretrained(pretrained_model_name_or_path=model_name_or_path, num_labels=n_labels)\n",
    "\n",
    "# get model tokenizer.\n",
    "print('Loading tokenizer...')\n",
    "tokenizer = GPT2Tokenizer.from_pretrained(pretrained_model_name_or_path=model_name_or_path)\n",
    "# padding setting\n",
    "tokenizer.padding_side = \"left\"\n",
    "tokenizer.pad_token = tokenizer.eos_token"
   ]
  },
  {
   "cell_type": "code",
   "execution_count": 43,
   "id": "949107c8-3afc-47f1-9a95-49d8a9e78b7f",
   "metadata": {},
   "outputs": [
    {
     "name": "stdout",
     "output_type": "stream",
     "text": [
      "Loading model...\n"
     ]
    },
    {
     "name": "stderr",
     "output_type": "stream",
     "text": [
      "Some weights of GPT2ForSequenceClassification were not initialized from the model checkpoint at gpt2 and are newly initialized: ['score.weight']\n",
      "You should probably TRAIN this model on a down-stream task to be able to use it for predictions and inference.\n"
     ]
    },
    {
     "data": {
      "text/plain": [
       "GPT2ForSequenceClassification(\n",
       "  (transformer): GPT2Model(\n",
       "    (wte): Embedding(50257, 768)\n",
       "    (wpe): Embedding(1024, 768)\n",
       "    (drop): Dropout(p=0.1, inplace=False)\n",
       "    (h): ModuleList(\n",
       "      (0-11): 12 x GPT2Block(\n",
       "        (ln_1): LayerNorm((768,), eps=1e-05, elementwise_affine=True)\n",
       "        (attn): GPT2SdpaAttention(\n",
       "          (c_attn): Conv1D(nf=2304, nx=768)\n",
       "          (c_proj): Conv1D(nf=768, nx=768)\n",
       "          (attn_dropout): Dropout(p=0.1, inplace=False)\n",
       "          (resid_dropout): Dropout(p=0.1, inplace=False)\n",
       "        )\n",
       "        (ln_2): LayerNorm((768,), eps=1e-05, elementwise_affine=True)\n",
       "        (mlp): GPT2MLP(\n",
       "          (c_fc): Conv1D(nf=3072, nx=768)\n",
       "          (c_proj): Conv1D(nf=768, nx=3072)\n",
       "          (act): NewGELUActivation()\n",
       "          (dropout): Dropout(p=0.1, inplace=False)\n",
       "        )\n",
       "      )\n",
       "    )\n",
       "    (ln_f): LayerNorm((768,), eps=1e-05, elementwise_affine=True)\n",
       "  )\n",
       "  (score): Linear(in_features=768, out_features=2, bias=False)\n",
       ")"
      ]
     },
     "execution_count": 43,
     "metadata": {},
     "output_type": "execute_result"
    }
   ],
   "source": [
    "\n",
    "print('Loading model...')\n",
    "model = GPT2ForSequenceClassification.from_pretrained(pretrained_model_name_or_path=model_name_or_path, config=model_config)\n",
    "\n",
    "# resize model embedding as len of tokenize\n",
    "model.resize_token_embeddings(len(tokenizer))\n",
    "\n",
    "# fix model padding token id \n",
    "model.config.pad_token_id = model.config.eos_token_id\n",
    "\n",
    "model.to(device)"
   ]
  },
  {
   "cell_type": "code",
   "execution_count": 44,
   "id": "ccc3c585-5a3a-4ec6-aa43-69a3500c0185",
   "metadata": {
    "scrolled": true
   },
   "outputs": [
    {
     "name": "stdout",
     "output_type": "stream",
     "text": [
      "Dealing with Train...\n",
      "Created `train_dataset` with 516176 examples!\n",
      "Created `train_dataloader` with 16131 batches!\n",
      "Dealing with Validation...\n",
      "Created `valid_dataset` with 129045 examples!\n",
      "Created `eval_dataloader` with 4033 batches!\n",
      "Epoch\n"
     ]
    },
    {
     "name": "stderr",
     "output_type": "stream",
     "text": [
      "G:\\Anaconda3\\envs\\pytorch\\lib\\site-packages\\transformers\\optimization.py:591: FutureWarning: This implementation of AdamW is deprecated and will be removed in a future version. Use the PyTorch implementation torch.optim.AdamW instead, or set `no_deprecation_warning=True` to disable this warning\n",
      "  warnings.warn(\n"
     ]
    },
    {
     "data": {
      "application/vnd.jupyter.widget-view+json": {
       "model_id": "8672f15fa91c471bbd47a6bdfdd0eee5",
       "version_major": 2,
       "version_minor": 0
      },
      "text/plain": [
       "  0%|          | 0/3 [00:00<?, ?it/s]"
      ]
     },
     "metadata": {},
     "output_type": "display_data"
    },
    {
     "name": "stdout",
     "output_type": "stream",
     "text": [
      "\n",
      "Training on batches...\n"
     ]
    },
    {
     "data": {
      "application/vnd.jupyter.widget-view+json": {
       "model_id": "310dd2ca0e3b4ca78d0f03ad698e9178",
       "version_major": 2,
       "version_minor": 0
      },
      "text/plain": [
       "  0%|          | 0/16131 [00:00<?, ?it/s]"
      ]
     },
     "metadata": {},
     "output_type": "display_data"
    },
    {
     "name": "stdout",
     "output_type": "stream",
     "text": [
      "Validation on batches...\n"
     ]
    },
    {
     "data": {
      "application/vnd.jupyter.widget-view+json": {
       "model_id": "0d069b47605a49a8a146002eee7d2caa",
       "version_major": 2,
       "version_minor": 0
      },
      "text/plain": [
       "  0%|          | 0/4033 [00:00<?, ?it/s]"
      ]
     },
     "metadata": {},
     "output_type": "display_data"
    },
    {
     "name": "stdout",
     "output_type": "stream",
     "text": [
      "  train_loss: 0.13470 - val_loss: 0.10502 - train_acc: 0.94920 - valid_acc: 0.96242\n",
      "\n",
      "Training on batches...\n"
     ]
    },
    {
     "data": {
      "application/vnd.jupyter.widget-view+json": {
       "model_id": "f29be3a995344952b6da33d113cbdd87",
       "version_major": 2,
       "version_minor": 0
      },
      "text/plain": [
       "  0%|          | 0/16131 [00:00<?, ?it/s]"
      ]
     },
     "metadata": {},
     "output_type": "display_data"
    },
    {
     "name": "stdout",
     "output_type": "stream",
     "text": [
      "Validation on batches...\n"
     ]
    },
    {
     "data": {
      "application/vnd.jupyter.widget-view+json": {
       "model_id": "33cf1589ac184d1db2bded275b174c48",
       "version_major": 2,
       "version_minor": 0
      },
      "text/plain": [
       "  0%|          | 0/4033 [00:00<?, ?it/s]"
      ]
     },
     "metadata": {},
     "output_type": "display_data"
    },
    {
     "name": "stdout",
     "output_type": "stream",
     "text": [
      "  train_loss: 0.09361 - val_loss: 0.09802 - train_acc: 0.96691 - valid_acc: 0.96568\n",
      "\n",
      "Training on batches...\n"
     ]
    },
    {
     "data": {
      "application/vnd.jupyter.widget-view+json": {
       "model_id": "30fce88240154060adbaea8419fd9acb",
       "version_major": 2,
       "version_minor": 0
      },
      "text/plain": [
       "  0%|          | 0/16131 [00:00<?, ?it/s]"
      ]
     },
     "metadata": {},
     "output_type": "display_data"
    },
    {
     "name": "stdout",
     "output_type": "stream",
     "text": [
      "Validation on batches...\n"
     ]
    },
    {
     "data": {
      "application/vnd.jupyter.widget-view+json": {
       "model_id": "fee2532052064db6995561bfe9be811c",
       "version_major": 2,
       "version_minor": 0
      },
      "text/plain": [
       "  0%|          | 0/4033 [00:00<?, ?it/s]"
      ]
     },
     "metadata": {},
     "output_type": "display_data"
    },
    {
     "name": "stdout",
     "output_type": "stream",
     "text": [
      "  train_loss: 0.07306 - val_loss: 0.10838 - train_acc: 0.97584 - valid_acc: 0.96629\n"
     ]
    }
   ],
   "source": [
    "print('Dealing with Train...')\n",
    "# create train set\n",
    "train_dataset = TextDataset(train_df)\n",
    "print('Created `train_dataset` with %d examples!'%len(train_dataset))\n",
    "gpt2_classificaiton_collator = Gpt2ClassificationCollator(use_tokenizer=tokenizer,\n",
    "                                                          labels_encoder=labels_ids,\n",
    "                                                          max_sequence_len=max_length)\n",
    "\n",
    "train_dataloader = DataLoader(train_dataset, batch_size=batch_size, shuffle=True, collate_fn=gpt2_classificaiton_collator)\n",
    "print('Created `train_dataloader` with %d batches!'%len(train_dataloader))\n",
    "\n",
    "print('Dealing with Validation...')\n",
    "# create test set\n",
    "valid_dataset =  TextDataset(test_df)\n",
    "print('Created `valid_dataset` with %d examples!'%len(valid_dataset))\n",
    "valid_dataloader = DataLoader(valid_dataset, batch_size=batch_size, shuffle=False, collate_fn=gpt2_classificaiton_collator)\n",
    "print('Created `eval_dataloader` with %d batches!'%len(valid_dataloader))\n",
    "# Out optimizer\n",
    "optimizer = AdamW(model.parameters(),\n",
    "                  lr = 5e-5, # default is 5e-5\n",
    "                  eps = 1e-8 # default is 1e-8.\n",
    "                  )\n",
    "\n",
    "total_steps = len(train_dataloader) * epochs\n",
    "\n",
    "# create the learning rate scheduler.\n",
    "scheduler = get_linear_schedule_with_warmup(optimizer,\n",
    "                                            num_warmup_steps = 0, # Default value in run_glue.py\n",
    "                                            num_training_steps = total_steps)\n",
    "\n",
    "# Store the average loss after each epoch so we can plot them.\n",
    "all_loss = {'train_loss':[], 'val_loss':[]}\n",
    "\n",
    "all_acc = {'train_acc':[], 'val_acc':[]}\n",
    "\n",
    "\n",
    "print('Epoch')\n",
    "for epoch in tqdm(range(epochs)):\n",
    "    print()\n",
    "    print('Training on batches...')\n",
    "    # Perform one full pass over the training set.\n",
    "    train_labels, train_predict, train_loss = train(train_dataloader, optimizer, scheduler, device)\n",
    "    train_acc = accuracy_score(train_labels, train_predict)\n",
    "\n",
    "    print('Validation on batches...')\n",
    "    valid_labels, valid_predict, val_loss = validation(valid_dataloader, device)\n",
    "    val_acc = accuracy_score(valid_labels, valid_predict)\n",
    "\n",
    "    print(\"  train_loss: %.5f - val_loss: %.5f - train_acc: %.5f - valid_acc: %.5f\"%(train_loss, val_loss, train_acc, val_acc))\n",
    "\n",
    "    # get loss value for plotting the learning curve\n",
    "    all_loss['train_loss'].append(train_loss)\n",
    "    all_loss['val_loss'].append(val_loss)\n",
    "    all_acc['train_acc'].append(train_acc)\n",
    "    all_acc['val_acc'].append(val_acc)"
   ]
  },
  {
   "cell_type": "code",
   "execution_count": 48,
   "id": "ddf28e67-efec-477b-af89-64578d10ca55",
   "metadata": {},
   "outputs": [],
   "source": [
    "data = {**all_loss, **all_acc}\n",
    "df = pd.DataFrame(data)\n",
    "df.to_csv('All_epoch_loss_acc.csv')"
   ]
  },
  {
   "cell_type": "code",
   "execution_count": 49,
   "id": "fb5b26c8-792e-459a-a242-66bb7c388172",
   "metadata": {},
   "outputs": [
    {
     "data": {
      "text/plain": [
       "('GPT2_label\\\\tokenizer_config.json',\n",
       " 'GPT2_label\\\\special_tokens_map.json',\n",
       " 'GPT2_label\\\\vocab.json',\n",
       " 'GPT2_label\\\\merges.txt',\n",
       " 'GPT2_label\\\\added_tokens.json')"
      ]
     },
     "execution_count": 49,
     "metadata": {},
     "output_type": "execute_result"
    }
   ],
   "source": [
    "model.save_pretrained(\"GPT2_label\")\n",
    "tokenizer.save_pretrained(\"GPT2_label\")"
   ]
  },
  {
   "cell_type": "markdown",
   "id": "ff997687-42fd-4dff-ae7b-3db63ae5d7c2",
   "metadata": {},
   "source": [
    "# Plot Loss"
   ]
  },
  {
   "cell_type": "code",
   "execution_count": 52,
   "id": "e496c870-be4f-420a-8f34-d11bb448eb2e",
   "metadata": {},
   "outputs": [
    {
     "data": {
      "image/png": "[encoded data removed]",
      "text/plain": [
       "<Figure size 1000x600 with 1 Axes>"
      ]
     },
     "metadata": {},
     "output_type": "display_data"
    }
   ],
   "source": [
    "import matplotlib.pyplot as plt\n",
    "plt.figure(figsize=(10, 6))\n",
    "plt.plot(df.index+1, df['train_loss'], label='train_loss', marker='o')\n",
    "plt.xticks(ticks=(df.index + 1))\n",
    "plt.xlabel('Epochs')\n",
    "plt.ylabel('Train_loss')\n",
    "plt.legend()\n",
    "plt.show()"
   ]
  },
  {
   "cell_type": "markdown",
   "id": "c64c8fe8-2225-4f50-8dcf-d3a4037f6036",
   "metadata": {},
   "source": [
    "# classification report"
   ]
  },
  {
   "cell_type": "code",
   "execution_count": 60,
   "id": "73b96926-e973-4db3-b5f8-b02698d46e7c",
   "metadata": {},
   "outputs": [],
   "source": [
    "from torch.utils.data import DataLoader, TensorDataset\n",
    "from sklearn.metrics import classification_report\n",
    "\n",
    "inputs = tokenizer(\n",
    "    test_df['text'].tolist(),\n",
    "    return_tensors=\"pt\",\n",
    "    padding=True,\n",
    "    truncation=True,\n",
    "    max_length=max_length\n",
    ")\n",
    "dataset = TensorDataset(inputs['input_ids'], inputs['attention_mask'])\n",
    "batch_size = 16  \n",
    "dataloader = DataLoader(dataset, batch_size=batch_size)\n",
    "device = torch.device(\"cuda\" if torch.cuda.is_available() else \"cpu\")\n",
    "model.to(device)\n",
    "model.eval()\n",
    "all_predictions = []\n",
    "\n",
    "with torch.no_grad():\n",
    "    for batch in dataloader:\n",
    "        batch_input_ids = batch[0].to(device)\n",
    "        batch_attention_mask = batch[1].to(device)\n",
    "\n",
    "        batch_inputs = {\n",
    "            'input_ids': batch_input_ids,\n",
    "            'attention_mask': batch_attention_mask\n",
    "        }\n",
    "\n",
    "        outputs = model(**batch_inputs)\n",
    "        logits = outputs.logits\n",
    "\n",
    "        # get prediction\n",
    "        predictions = torch.argmax(logits, dim=-1).cpu().numpy()\n",
    "\n",
    "        # append prediction\n",
    "        all_predictions.extend(predictions)\n",
    "\n",
    "all_predictions = torch.tensor(all_predictions).numpy()"
   ]
  },
  {
   "cell_type": "code",
   "execution_count": 68,
   "id": "d750efbe-f133-4736-91ca-9c967f5b5fb5",
   "metadata": {},
   "outputs": [
    {
     "name": "stdout",
     "output_type": "stream",
     "text": [
      "              precision    recall  f1-score   support\n",
      "\n",
      "    Positive       0.92      0.92      0.92     28842\n",
      "    Negative       0.98      0.98      0.98    100203\n",
      "\n",
      "    accuracy                           0.96    129045\n",
      "   macro avg       0.95      0.95      0.95    129045\n",
      "weighted avg       0.96      0.96      0.96    129045\n",
      "\n"
     ]
    }
   ],
   "source": [
    "labels_ids = {'Positive': 1, 'Negative': 0}\n",
    "test_df['rating']\n",
    "id_to_labels = {v: k for k, v in labels_ids.items()}\n",
    "predicted_labels = [id_to_labels[pred] for pred in all_predictions]\n",
    "\n",
    "\n",
    "report = classification_report(\n",
    "    test_df['rating'],\n",
    "    predicted_labels,\n",
    "    target_names=labels_ids.keys()\n",
    ")\n",
    "print(report)"
   ]
  }
 ],
 "metadata": {
  "kernelspec": {
   "display_name": "pytorch",
   "language": "python",
   "name": "pytorch"
  },
  "language_info": {
   "codemirror_mode": {
    "name": "ipython",
    "version": 3
   },
   "file_extension": ".py",
   "mimetype": "text/x-python",
   "name": "python",
   "nbconvert_exporter": "python",
   "pygments_lexer": "ipython3",
   "version": "3.9.20"
  }
 },
 "nbformat": 4,
 "nbformat_minor": 5
}
